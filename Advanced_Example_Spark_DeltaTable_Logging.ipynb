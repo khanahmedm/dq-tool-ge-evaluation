{
 "cells": [
  {
   "cell_type": "code",
   "execution_count": null,
   "id": "dea05572-4607-4f49-98e6-856d2c596079",
   "metadata": {},
   "outputs": [],
   "source": [
    "from pyspark.sql import SparkSession\n",
    "\n",
    "spark = SparkSession.builder \\\n",
    "    .appName(\"GenomicDQ\") \\\n",
    "    .config(\"spark.jars.packages\", \"io.delta:delta-core_2.12:2.4.0\") \\\n",
    "    .config(\"spark.sql.extensions\", \"io.delta.sql.DeltaSparkSessionExtension\") \\\n",
    "    .config(\"spark.sql.catalog.spark_catalog\", \"org.apache.spark.sql.delta.catalog.DeltaCatalog\") \\\n",
    "    .getOrCreate()\n",
    "\n",
    "# Load from Parquet\n",
    "df = spark.read.parquet(\"output/genomic_data.parquet\")\n",
    "\n",
    "# Write to Delta table\n",
    "df.write.format(\"delta\").mode(\"overwrite\").save(\"/delta/genomic_data\")\n"
   ]
  },
  {
   "cell_type": "code",
   "execution_count": null,
   "id": "db6fc8cb-b827-4af3-9db3-39983b19bb2e",
   "metadata": {},
   "outputs": [],
   "source": [
    "df_delta = spark.read.format(\"delta\").load(\"/delta/genomic_data\")\n",
    "df_delta.printSchema()\n"
   ]
  },
  {
   "cell_type": "code",
   "execution_count": null,
   "id": "691e5350-b09f-4fc3-bf7e-8666cbb9183b",
   "metadata": {},
   "outputs": [],
   "source": [
    "df_delta.show(truncate=False)\n"
   ]
  },
  {
   "cell_type": "code",
   "execution_count": null,
   "id": "ad41cbe3-8732-48ab-b3af-e2e4162df744",
   "metadata": {},
   "outputs": [],
   "source": [
    "df_delta.createOrReplaceTempView(\"genomic_data\")\n",
    "spark.sql(\"SELECT genome_id, start_position FROM genomic_data WHERE start_position > 500\").show()\n"
   ]
  },
  {
   "cell_type": "code",
   "execution_count": null,
   "id": "46fc75bf-acc2-4a2b-9738-c80dfa222b84",
   "metadata": {},
   "outputs": [],
   "source": [
    "import great_expectations as gx\n",
    "import pandas as pd\n",
    "\n",
    "context = gx.get_context()\n",
    "\n",
    "# Convert Spark -> Pandas\n",
    "pdf = df.toPandas()\n",
    "\n",
    "# Run expectations\n",
    "batch = context.sources.pandas_default.read_dataframe(pdf)\n",
    "batch.expect_column_values_to_be_unique(\"genome_id\")\n",
    "batch.expect_column_values_to_not_be_null(\"sequence\")\n",
    "results = batch.validate()\n"
   ]
  },
  {
   "cell_type": "code",
   "execution_count": null,
   "id": "ce184f31-58de-49b0-823e-e4c1804babc2",
   "metadata": {},
   "outputs": [],
   "source": [
    "results"
   ]
  },
  {
   "cell_type": "code",
   "execution_count": null,
   "id": "3087eaee-11f1-4343-af52-11891cdb824c",
   "metadata": {},
   "outputs": [],
   "source": [
    "from datetime import datetime\n",
    "from pyspark.sql.types import StructType, StructField, StringType, BooleanType\n",
    "import uuid\n",
    "\n",
    "# Define run metadata\n",
    "run_id = str(uuid.uuid4())\n",
    "run_time = datetime.utcnow().isoformat()\n",
    "\n",
    "schema = StructType([\n",
    "    StructField(\"run_id\", StringType(), False),\n",
    "    StructField(\"run_time\", StringType(), False),\n",
    "    StructField(\"expectation\", StringType(), True),\n",
    "    StructField(\"column\", StringType(), True),\n",
    "    StructField(\"success\", BooleanType(), True),\n",
    "    StructField(\"observed_value\", StringType(), True),  # store as stringified JSON-safe format\n",
    "])\n"
   ]
  },
  {
   "cell_type": "code",
   "execution_count": null,
   "id": "fd652d47-4c01-4174-a19e-e0c411b0860f",
   "metadata": {},
   "outputs": [],
   "source": [
    "rows = []\n",
    "for r in results[\"results\"]:\n",
    "    observed = r[\"result\"].get(\"observed_value\")\n",
    "    rows.append({\n",
    "        \"run_id\": run_id,\n",
    "        \"run_time\": run_time,\n",
    "        \"expectation\": r[\"expectation_config\"][\"expectation_type\"],\n",
    "        \"column\": r[\"expectation_config\"][\"kwargs\"].get(\"column\"),\n",
    "        \"success\": r[\"success\"],\n",
    "        \"observed_value\": str(observed) if observed is not None else None\n",
    "    })\n"
   ]
  },
  {
   "cell_type": "code",
   "execution_count": null,
   "id": "ae5d5ff1-a828-42e2-9eaa-fbb674afd26d",
   "metadata": {},
   "outputs": [],
   "source": [
    "rows"
   ]
  },
  {
   "cell_type": "code",
   "execution_count": null,
   "id": "47711919-4ab7-4b7a-96b4-37b921c2f612",
   "metadata": {},
   "outputs": [],
   "source": [
    "log_df = spark.createDataFrame(rows, schema=schema)\n",
    "log_df.write.format(\"delta\").mode(\"append\").save(\"/delta/validation_log\")\n"
   ]
  },
  {
   "cell_type": "code",
   "execution_count": null,
   "id": "c8587107-6aef-4d15-aabc-56a804cd14dc",
   "metadata": {},
   "outputs": [],
   "source": [
    "df_log = spark.read.format(\"delta\").load(\"/delta/validation_log\")\n",
    "df_log.filter(\"success = false\").show(truncate=False)\n"
   ]
  },
  {
   "cell_type": "code",
   "execution_count": null,
   "id": "dd698128-0e17-4a25-818c-ec2a38d181f8",
   "metadata": {},
   "outputs": [],
   "source": [
    "df_log.printSchema()\n"
   ]
  },
  {
   "cell_type": "code",
   "execution_count": null,
   "id": "04f6cc60-3b08-45be-9bf3-2402a93589bf",
   "metadata": {},
   "outputs": [],
   "source": [
    "df_log.select(\"run_id\", \"expectation\", \"column\", \"success\", \"observed_value\").show(truncate=False)\n"
   ]
  },
  {
   "cell_type": "code",
   "execution_count": null,
   "id": "f3b54c3d-06fe-4de1-ad7c-2c74dc3d9118",
   "metadata": {},
   "outputs": [],
   "source": [
    "batch.expect_column_values_to_be_between(\"start_position\", min_value=9_999_999)\n",
    "results = batch.validate()\n"
   ]
  },
  {
   "cell_type": "code",
   "execution_count": null,
   "id": "f6364eed-1475-44d9-adfb-ae6f0b7912e3",
   "metadata": {},
   "outputs": [],
   "source": [
    "# Generate UUID + rows\n",
    "run_id = str(uuid.uuid4())\n",
    "run_time = datetime.utcnow().isoformat()\n",
    "\n",
    "rows = []\n",
    "for r in results[\"results\"]:\n",
    "    observed = r[\"result\"].get(\"observed_value\")\n",
    "    rows.append({\n",
    "        \"run_id\": run_id,\n",
    "        \"run_time\": run_time,\n",
    "        \"expectation\": r[\"expectation_config\"][\"expectation_type\"],\n",
    "        \"column\": r[\"expectation_config\"][\"kwargs\"].get(\"column\"),\n",
    "        \"success\": r[\"success\"],\n",
    "        \"observed_value\": str(observed) if observed is not None else None\n",
    "    })\n",
    "\n",
    "log_df = spark.createDataFrame(rows, schema=schema)\n",
    "log_df.write.format(\"delta\").mode(\"append\").save(\"/delta/validation_log\")\n"
   ]
  },
  {
   "cell_type": "code",
   "execution_count": null,
   "id": "b2163d38-d66a-4566-87b8-c4cacd286748",
   "metadata": {},
   "outputs": [],
   "source": [
    "spark.read.format(\"delta\").load(\"/delta/validation_log\").filter(\"success = false\").show(truncate=False)\n"
   ]
  },
  {
   "cell_type": "code",
   "execution_count": null,
   "id": "7f218adc-9808-4d02-9a69-656b47dbf4d8",
   "metadata": {},
   "outputs": [],
   "source": [
    "df_log.select(\"run_id\", \"expectation\", \"column\", \"success\", \"observed_value\").show(truncate=False)"
   ]
  },
  {
   "cell_type": "code",
   "execution_count": null,
   "id": "8887d9a3-0a8f-488d-a58e-b70d89cf6957",
   "metadata": {},
   "outputs": [],
   "source": []
  }
 ],
 "metadata": {
  "kernelspec": {
   "display_name": "Python 3 (ipykernel)",
   "language": "python",
   "name": "python3"
  },
  "language_info": {
   "codemirror_mode": {
    "name": "ipython",
    "version": 3
   },
   "file_extension": ".py",
   "mimetype": "text/x-python",
   "name": "python",
   "nbconvert_exporter": "python",
   "pygments_lexer": "ipython3",
   "version": "3.10.12"
  }
 },
 "nbformat": 4,
 "nbformat_minor": 5
}
