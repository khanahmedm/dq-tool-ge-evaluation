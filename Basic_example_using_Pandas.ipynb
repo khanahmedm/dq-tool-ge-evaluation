{
 "cells": [
  {
   "cell_type": "code",
   "execution_count": 1,
   "id": "5c0a1568-3b48-4895-a4ab-de3b63bebbdd",
   "metadata": {},
   "outputs": [
    {
     "data": {
      "application/vnd.jupyter.widget-view+json": {
       "model_id": "05d5ce96297e4139978e1e893d3338a4",
       "version_major": 2,
       "version_minor": 0
      },
      "text/plain": [
       "Calculating Metrics:   0%|          | 0/6 [00:00<?, ?it/s]"
      ]
     },
     "metadata": {},
     "output_type": "display_data"
    },
    {
     "data": {
      "application/vnd.jupyter.widget-view+json": {
       "model_id": "6e8cb4c0a82e49fcbbc208f5185abc5e",
       "version_major": 2,
       "version_minor": 0
      },
      "text/plain": [
       "Calculating Metrics:   0%|          | 0/8 [00:00<?, ?it/s]"
      ]
     },
     "metadata": {},
     "output_type": "display_data"
    },
    {
     "data": {
      "application/vnd.jupyter.widget-view+json": {
       "model_id": "de80335073d442eb920784c9f34b274d",
       "version_major": 2,
       "version_minor": 0
      },
      "text/plain": [
       "Calculating Metrics:   0%|          | 0/8 [00:00<?, ?it/s]"
      ]
     },
     "metadata": {},
     "output_type": "display_data"
    },
    {
     "data": {
      "application/vnd.jupyter.widget-view+json": {
       "model_id": "b6be1e1c247d4cc4b95ebc3a8409fe30",
       "version_major": 2,
       "version_minor": 0
      },
      "text/plain": [
       "Calculating Metrics:   0%|          | 0/8 [00:00<?, ?it/s]"
      ]
     },
     "metadata": {},
     "output_type": "display_data"
    },
    {
     "data": {
      "application/vnd.jupyter.widget-view+json": {
       "model_id": "4c5a737977074702b3f0e8fa4b17f9ea",
       "version_major": 2,
       "version_minor": 0
      },
      "text/plain": [
       "Calculating Metrics:   0%|          | 0/17 [00:00<?, ?it/s]"
      ]
     },
     "metadata": {},
     "output_type": "display_data"
    },
    {
     "data": {
      "text/plain": [
       "{\n",
       "  \"success\": true,\n",
       "  \"results\": [\n",
       "    {\n",
       "      \"success\": true,\n",
       "      \"expectation_config\": {\n",
       "        \"expectation_type\": \"expect_column_values_to_not_be_null\",\n",
       "        \"kwargs\": {\n",
       "          \"column\": \"genome_id\",\n",
       "          \"batch_id\": \"default_pandas_datasource-#ephemeral_pandas_asset\"\n",
       "        },\n",
       "        \"meta\": {}\n",
       "      },\n",
       "      \"result\": {\n",
       "        \"element_count\": 100,\n",
       "        \"unexpected_count\": 0,\n",
       "        \"unexpected_percent\": 0.0,\n",
       "        \"partial_unexpected_list\": []\n",
       "      },\n",
       "      \"meta\": {},\n",
       "      \"exception_info\": {\n",
       "        \"raised_exception\": false,\n",
       "        \"exception_traceback\": null,\n",
       "        \"exception_message\": null\n",
       "      }\n",
       "    },\n",
       "    {\n",
       "      \"success\": true,\n",
       "      \"expectation_config\": {\n",
       "        \"expectation_type\": \"expect_column_values_to_match_regex\",\n",
       "        \"kwargs\": {\n",
       "          \"column\": \"genome_id\",\n",
       "          \"regex\": \"^G\\\\d{4}$\",\n",
       "          \"batch_id\": \"default_pandas_datasource-#ephemeral_pandas_asset\"\n",
       "        },\n",
       "        \"meta\": {}\n",
       "      },\n",
       "      \"result\": {\n",
       "        \"element_count\": 100,\n",
       "        \"unexpected_count\": 0,\n",
       "        \"unexpected_percent\": 0.0,\n",
       "        \"partial_unexpected_list\": [],\n",
       "        \"missing_count\": 0,\n",
       "        \"missing_percent\": 0.0,\n",
       "        \"unexpected_percent_total\": 0.0,\n",
       "        \"unexpected_percent_nonmissing\": 0.0\n",
       "      },\n",
       "      \"meta\": {},\n",
       "      \"exception_info\": {\n",
       "        \"raised_exception\": false,\n",
       "        \"exception_traceback\": null,\n",
       "        \"exception_message\": null\n",
       "      }\n",
       "    },\n",
       "    {\n",
       "      \"success\": true,\n",
       "      \"expectation_config\": {\n",
       "        \"expectation_type\": \"expect_column_values_to_be_unique\",\n",
       "        \"kwargs\": {\n",
       "          \"column\": \"genome_id\",\n",
       "          \"batch_id\": \"default_pandas_datasource-#ephemeral_pandas_asset\"\n",
       "        },\n",
       "        \"meta\": {}\n",
       "      },\n",
       "      \"result\": {\n",
       "        \"element_count\": 100,\n",
       "        \"unexpected_count\": 0,\n",
       "        \"unexpected_percent\": 0.0,\n",
       "        \"partial_unexpected_list\": [],\n",
       "        \"missing_count\": 0,\n",
       "        \"missing_percent\": 0.0,\n",
       "        \"unexpected_percent_total\": 0.0,\n",
       "        \"unexpected_percent_nonmissing\": 0.0\n",
       "      },\n",
       "      \"meta\": {},\n",
       "      \"exception_info\": {\n",
       "        \"raised_exception\": false,\n",
       "        \"exception_traceback\": null,\n",
       "        \"exception_message\": null\n",
       "      }\n",
       "    },\n",
       "    {\n",
       "      \"success\": true,\n",
       "      \"expectation_config\": {\n",
       "        \"expectation_type\": \"expect_column_values_to_be_between\",\n",
       "        \"kwargs\": {\n",
       "          \"min_value\": 0,\n",
       "          \"column\": \"start_position\",\n",
       "          \"batch_id\": \"default_pandas_datasource-#ephemeral_pandas_asset\"\n",
       "        },\n",
       "        \"meta\": {}\n",
       "      },\n",
       "      \"result\": {\n",
       "        \"element_count\": 100,\n",
       "        \"unexpected_count\": 0,\n",
       "        \"unexpected_percent\": 0.0,\n",
       "        \"partial_unexpected_list\": [],\n",
       "        \"missing_count\": 0,\n",
       "        \"missing_percent\": 0.0,\n",
       "        \"unexpected_percent_total\": 0.0,\n",
       "        \"unexpected_percent_nonmissing\": 0.0\n",
       "      },\n",
       "      \"meta\": {},\n",
       "      \"exception_info\": {\n",
       "        \"raised_exception\": false,\n",
       "        \"exception_traceback\": null,\n",
       "        \"exception_message\": null\n",
       "      }\n",
       "    }\n",
       "  ],\n",
       "  \"evaluation_parameters\": {},\n",
       "  \"statistics\": {\n",
       "    \"evaluated_expectations\": 4,\n",
       "    \"successful_expectations\": 4,\n",
       "    \"unsuccessful_expectations\": 0,\n",
       "    \"success_percent\": 100.0\n",
       "  },\n",
       "  \"meta\": {\n",
       "    \"great_expectations_version\": \"0.18.13\",\n",
       "    \"expectation_suite_name\": \"default\",\n",
       "    \"run_id\": {\n",
       "      \"run_name\": null,\n",
       "      \"run_time\": \"2025-06-08T04:30:51.189309+00:00\"\n",
       "    },\n",
       "    \"batch_spec\": {\n",
       "      \"batch_data\": \"PandasDataFrame\"\n",
       "    },\n",
       "    \"batch_markers\": {\n",
       "      \"ge_load_time\": \"20250608T043050.990786Z\",\n",
       "      \"pandas_data_fingerprint\": \"e139cbcebf12f12b13df5c309226670d\"\n",
       "    },\n",
       "    \"active_batch_definition\": {\n",
       "      \"datasource_name\": \"default_pandas_datasource\",\n",
       "      \"data_connector_name\": \"fluent\",\n",
       "      \"data_asset_name\": \"#ephemeral_pandas_asset\",\n",
       "      \"batch_identifiers\": {}\n",
       "    },\n",
       "    \"validation_time\": \"20250608T043051.189242Z\",\n",
       "    \"checkpoint_name\": null\n",
       "  }\n",
       "}"
      ]
     },
     "execution_count": 1,
     "metadata": {},
     "output_type": "execute_result"
    }
   ],
   "source": [
    "import great_expectations as gx\n",
    "\n",
    "context = gx.get_context()\n",
    "\n",
    "# Read your parquet file using Pandas\n",
    "import pandas as pd\n",
    "df = pd.read_parquet(\"output/genomic_data.parquet\")\n",
    "\n",
    "# Create a GE batch from the DataFrame\n",
    "batch = context.sources.pandas_default.read_dataframe(df)\n",
    "\n",
    "# Example expectations\n",
    "batch.expect_column_values_to_not_be_null(\"genome_id\")\n",
    "batch.expect_column_values_to_match_regex(\"genome_id\", r\"^G\\d{4}$\")\n",
    "batch.expect_column_values_to_be_between(\"start_position\", min_value=0)\n",
    "batch.expect_column_values_to_be_unique(\"genome_id\")\n",
    "\n",
    "# View results\n",
    "batch.validate()\n"
   ]
  },
  {
   "cell_type": "code",
   "execution_count": null,
   "id": "c742932a-8040-41a2-a475-f7d1296af755",
   "metadata": {},
   "outputs": [],
   "source": []
  }
 ],
 "metadata": {
  "kernelspec": {
   "display_name": "Python 3 (ipykernel)",
   "language": "python",
   "name": "python3"
  },
  "language_info": {
   "codemirror_mode": {
    "name": "ipython",
    "version": 3
   },
   "file_extension": ".py",
   "mimetype": "text/x-python",
   "name": "python",
   "nbconvert_exporter": "python",
   "pygments_lexer": "ipython3",
   "version": "3.10.12"
  }
 },
 "nbformat": 4,
 "nbformat_minor": 5
}
